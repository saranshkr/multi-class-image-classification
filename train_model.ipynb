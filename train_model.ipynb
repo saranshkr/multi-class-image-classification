{
  "cells": [
    {
      "attachments": {},
      "cell_type": "markdown",
      "metadata": {},
      "source": [
        "### Import libraries"
      ]
    },
    {
      "cell_type": "code",
      "execution_count": null,
      "metadata": {
        "id": "AA3VJAi6twZT"
      },
      "outputs": [],
      "source": [
        "from tensorflow.keras.models import Sequential\n",
        "from tensorflow.keras.layers import Dense\n",
        "from tensorflow.keras.layers import Dropout\n",
        "from tensorflow.keras.layers import Flatten\n",
        "from tensorflow.keras.layers import Conv2D\n",
        "from tensorflow.keras.layers import MaxPooling2D\n",
        "from tensorflow.keras.layers import Resizing\n",
        "from tensorflow.keras.utils import to_categorical\n",
        "from tensorflow.keras.datasets import cifar10\n",
        "from tensorflow.keras.optimizers import SGD\n",
        "\n",
        "import matplotlib.pyplot as plt\n",
        "import numpy as np\n",
        "\n",
        "from cifar10_classes import class_map"
      ]
    },
    {
      "attachments": {},
      "cell_type": "markdown",
      "metadata": {},
      "source": [
        "### Load and assess the Cifar10 dataset"
      ]
    },
    {
      "cell_type": "code",
      "execution_count": null,
      "metadata": {
        "colab": {
          "base_uri": "https://localhost:8080/"
        },
        "id": "koJWTK9l3s0q",
        "outputId": "bc6c4ab3-6ef9-4d21-fda0-a195f8c5fb58"
      },
      "outputs": [],
      "source": [
        "def load_and_assess_dataset():\n",
        "    (X_train, y_train), (X_test, y_test) = cifar10.load_data()\n",
        "    \n",
        "    print(f'X_train.shape: {X_train.shape}')\n",
        "    print(f'X_test.shape: {X_test.shape}')\n",
        "    print(f'y_train.shape: {y_train.shape}')\n",
        "    print(f'y_test.shape: {y_test.shape}')\n",
        "    \n",
        "    k = np.random.randint(0, X_train.shape[0])\n",
        "    plt.title(f'Image #{k} (label: \"{class_map[y_train[k][0]]}\")')\n",
        "    plt.imshow(X_train[k])\n",
        "\n",
        "    return (X_train, y_train), (X_test, y_test)"
      ]
    },
    {
      "attachments": {},
      "cell_type": "markdown",
      "metadata": {},
      "source": [
        "### Preprocess the train and test data"
      ]
    },
    {
      "cell_type": "code",
      "execution_count": null,
      "metadata": {
        "id": "74EE3kA2wBGu"
      },
      "outputs": [],
      "source": [
        "def preprocess_data(X_train, y_train, X_test, y_test):\n",
        "    X_train = X_train.astype('float32') / 255.0\n",
        "    X_test = X_test.astype('float32') / 255.0\n",
        "    \n",
        "    y_train = to_categorical(y_train, dtype='uint8')\n",
        "    y_test = to_categorical(y_test, dtype='uint8')\n",
        "    \n",
        "    num_classes = y_train.shape[1]\n",
        "    print(f'num_classes: {num_classes}')\n",
        "\n",
        "    return X_train, y_train, X_test, y_test, num_classes"
      ]
    },
    {
      "attachments": {},
      "cell_type": "markdown",
      "metadata": {},
      "source": [
        "### Build model architecture and compile"
      ]
    },
    {
      "cell_type": "code",
      "execution_count": null,
      "metadata": {
        "id": "f8AXYGDKWr5k"
      },
      "outputs": [],
      "source": [
        "def build_model(num_classes):\n",
        "    model = Sequential()\n",
        "\n",
        "    model.add(Resizing(32,32))\n",
        "    model.add(Conv2D(96, (5,5), input_shape=(32,32,3), padding='same', activation='relu'))\n",
        "    model.add(MaxPooling2D(pool_size=(2,2)))\n",
        "    model.add(Conv2D(80, (5,5), padding='same', activation='relu'))\n",
        "    model.add(MaxPooling2D(pool_size=(2,2)))\n",
        "    model.add(Conv2D(96, (5,5), padding='same', activation='relu'))\n",
        "    model.add(Dropout(0.2))\n",
        "    model.add(Conv2D(64, (5,5), padding='same', activation='relu'))\n",
        "    model.add(Flatten())\n",
        "    model.add(Dense(256, activation='relu'))\n",
        "    model.add(Dropout(0.2))\n",
        "    model.add(Dense(num_classes, activation='softmax'))\n",
        "\n",
        "    sgd = SGD(learning_rate=0.01, momentum=0.9, decay=(0.01/25), nesterov=False)\n",
        "    model.compile(optimizer=sgd, loss='categorical_crossentropy', metrics=['accuracy'])\n",
        "    \n",
        "    return model"
      ]
    },
    {
      "attachments": {},
      "cell_type": "markdown",
      "metadata": {},
      "source": [
        "### Train the model with training data"
      ]
    },
    {
      "cell_type": "code",
      "execution_count": null,
      "metadata": {
        "colab": {
          "base_uri": "https://localhost:8080/"
        },
        "id": "musH1BI5YkcN",
        "outputId": "f4e5883f-46cf-420b-ec21-9696949953c2"
      },
      "outputs": [],
      "source": [
        "def train_model(X_train, y_train, model, batch_size=32, epochs=20):\n",
        "    model.fit(X_train, y_train, batch_size=batch_size, epochs=epochs, validation_split=0.15)\n",
        "    return model"
      ]
    },
    {
      "attachments": {},
      "cell_type": "markdown",
      "metadata": {},
      "source": [
        "### Evaluate the model on test data"
      ]
    },
    {
      "cell_type": "code",
      "execution_count": null,
      "metadata": {
        "colab": {
          "base_uri": "https://localhost:8080/"
        },
        "id": "kx4vTjIQDxiM",
        "outputId": "ac87db02-2cf7-4b62-e241-342d12ef2d98"
      },
      "outputs": [],
      "source": [
        "def evaluate_model(X_test, y_test, model):\n",
        "    result = model.evaluate(X_test, y_test)\n",
        "    print(model.metrics_names)\n",
        "    print(result)"
      ]
    },
    {
      "cell_type": "code",
      "execution_count": null,
      "metadata": {},
      "outputs": [],
      "source": [
        "def save_trained_model(model, model_name='cifar10_trained_model.h5'):\n",
        "    model.save(model_name)"
      ]
    },
    {
      "cell_type": "code",
      "execution_count": null,
      "metadata": {},
      "outputs": [],
      "source": [
        "(X_train, y_train), (X_test, y_test) = load_and_assess_dataset()"
      ]
    },
    {
      "cell_type": "code",
      "execution_count": null,
      "metadata": {},
      "outputs": [],
      "source": [
        "X_train, y_train, X_test, y_test, num_classes = preprocess_data(X_train, y_train, X_test, y_test)"
      ]
    },
    {
      "cell_type": "code",
      "execution_count": null,
      "metadata": {},
      "outputs": [],
      "source": [
        "model = build_model(num_classes)"
      ]
    },
    {
      "cell_type": "code",
      "execution_count": null,
      "metadata": {},
      "outputs": [],
      "source": [
        "model = train_model(X_train, y_train, model, batch_size=128, epochs=10)"
      ]
    },
    {
      "cell_type": "code",
      "execution_count": null,
      "metadata": {},
      "outputs": [],
      "source": [
        "model.summary()"
      ]
    },
    {
      "cell_type": "code",
      "execution_count": null,
      "metadata": {},
      "outputs": [],
      "source": [
        "evaluate_model(X_test, y_test, model)"
      ]
    },
    {
      "cell_type": "code",
      "execution_count": null,
      "metadata": {
        "id": "FS0HgXdNpjJB"
      },
      "outputs": [],
      "source": [
        "save_trained_model(model, 'cifar10_trained_model.h5')"
      ]
    }
  ],
  "metadata": {
    "colab": {
      "collapsed_sections": [],
      "provenance": []
    },
    "kernelspec": {
      "display_name": "Python 3.9.6 64-bit",
      "language": "python",
      "name": "python3"
    },
    "language_info": {
      "codemirror_mode": {
        "name": "ipython",
        "version": 3
      },
      "file_extension": ".py",
      "mimetype": "text/x-python",
      "name": "python",
      "nbconvert_exporter": "python",
      "pygments_lexer": "ipython3",
      "version": "3.9.6 (tags/v3.9.6:db3ff76, Jun 28 2021, 15:26:21) [MSC v.1929 64 bit (AMD64)]"
    },
    "vscode": {
      "interpreter": {
        "hash": "5908d4e3eb84f531907e0ded95d29abacb9fb48577f7b077a3e78507b9ce9ccc"
      }
    }
  },
  "nbformat": 4,
  "nbformat_minor": 0
}
