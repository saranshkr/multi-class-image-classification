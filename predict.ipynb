{
 "cells": [
  {
   "attachments": {},
   "cell_type": "markdown",
   "metadata": {},
   "source": [
    "### Import libraries"
   ]
  },
  {
   "cell_type": "code",
   "execution_count": 1,
   "metadata": {},
   "outputs": [],
   "source": [
    "from tensorflow.keras.models import load_model\n",
    "from tensorflow.keras.utils import load_img\n",
    "from tensorflow.keras.utils import img_to_array\n",
    "from tensorflow.keras.layers import Resizing\n",
    "from tensorflow.keras.models import Sequential\n",
    "\n",
    "import numpy as np\n",
    "\n",
    "from cifar10_classes import class_map"
   ]
  },
  {
   "attachments": {},
   "cell_type": "markdown",
   "metadata": {},
   "source": [
    "### Load the trained model"
   ]
  },
  {
   "cell_type": "code",
   "execution_count": 2,
   "metadata": {},
   "outputs": [],
   "source": [
    "def load_trained_model(trained_model_name):\n",
    "    trained_model = load_model(trained_model_name)\n",
    "    return trained_model"
   ]
  },
  {
   "attachments": {},
   "cell_type": "markdown",
   "metadata": {},
   "source": [
    "### Preprocess test image"
   ]
  },
  {
   "cell_type": "code",
   "execution_count": 3,
   "metadata": {},
   "outputs": [],
   "source": [
    "def preprocess_image(image_name):\n",
    "    test_image = load_img(image_name)\n",
    "    test_image = test_image.resize((32, 32))\n",
    "    img_array = img_to_array(test_image)\n",
    "    img_array = img_array/255.0\n",
    "    img_array = img_array.reshape(1, img_array.shape[0], img_array.shape[1], img_array.shape[2])\n",
    "    return img_array"
   ]
  },
  {
   "attachments": {},
   "cell_type": "markdown",
   "metadata": {},
   "source": [
    "### Classify image"
   ]
  },
  {
   "cell_type": "code",
   "execution_count": 4,
   "metadata": {},
   "outputs": [],
   "source": [
    "def predict_class(model, img_array):\n",
    "    pred_index = model.predict(img_array)\n",
    "    pred_class = class_map[np.argmax(pred_index)]\n",
    "    return pred_class"
   ]
  },
  {
   "cell_type": "code",
   "execution_count": 5,
   "metadata": {},
   "outputs": [
    {
     "name": "stdout",
     "output_type": "stream",
     "text": [
      "1/1 [==============================] - 0s 140ms/step\n",
      "Predicted Class: horse\n"
     ]
    }
   ],
   "source": [
    "model = load_trained_model('cifar10_trained_model.h5')\n",
    "image_array = preprocess_image('test_images/horse.jpg')\n",
    "pred_class = predict_class(model, image_array)\n",
    "print(f'Predicted Class: {pred_class}')"
   ]
  }
 ],
 "metadata": {
  "kernelspec": {
   "display_name": "Python 3.9.6 64-bit",
   "language": "python",
   "name": "python3"
  },
  "language_info": {
   "codemirror_mode": {
    "name": "ipython",
    "version": 3
   },
   "file_extension": ".py",
   "mimetype": "text/x-python",
   "name": "python",
   "nbconvert_exporter": "python",
   "pygments_lexer": "ipython3",
   "version": "3.9.6"
  },
  "orig_nbformat": 4,
  "vscode": {
   "interpreter": {
    "hash": "5908d4e3eb84f531907e0ded95d29abacb9fb48577f7b077a3e78507b9ce9ccc"
   }
  }
 },
 "nbformat": 4,
 "nbformat_minor": 2
}
